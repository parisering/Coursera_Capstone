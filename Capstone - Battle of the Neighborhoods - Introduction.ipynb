{
 "cells": [
  {
   "cell_type": "markdown",
   "metadata": {},
   "source": [
    "## Capstone Project - Battle of the Neighborhoods\n",
    "Filipino Store Analysis in Los Angeles, California \n"
   ]
  },
  {
   "cell_type": "markdown",
   "metadata": {},
   "source": [
    "This notebook includes:\n",
    "\n",
    "1.1) A description of the problem and a discussion of the background - Week 1\n"
   ]
  },
  
  {
   "cell_type": "markdown",
   "metadata": {},
   "source": [
    "## Introduction/Business Problem:\n"
   ]
  },
  {
   "cell_type": "markdown",
   "metadata": {},
   "source": [
    "Los Angeles, California is home of the second-largest concentrated population of Filipinos in the world, only exceed by Manila. As this population continues to grow, many other filipinos within the United States are looking to find their little \"slice of home\" within the nation. With many filipino owned-businesses in this area such as restaurants, bakeries, and markets - this would be a wonderful trip for those looking to indulge in Filipino culture domestically, since international travel is unknown at the moment. \n",
    "\n",
    "Audience: Filipinos living in the United States and/or Americans looking to experience Filipino culture more domestically \n",
    "\n",
    "The aim for this project is to identify areas in Los Angeles that have higher concentration of Filipino stores/restaurants, and areas that would be the best to stay for those visiting out of town. This would include identifying areas with Filipino restaurants, bakeries, markets - and have hotels nearby. \n"
   ]
  }
 ],
 "metadata": {
  "kernelspec": {
   "display_name": "Python 3",
   "language": "python",
   "name": "python3"
  },
  "language_info": {
   "codemirror_mode": {
    "name": "ipython",
    "version": 3
   },
   "file_extension": ".py",
   "mimetype": "text/x-python",
   "name": "python",
   "nbconvert_exporter": "python",
   "pygments_lexer": "ipython3",
   "version": "3.7.0"
  }
 },
 "nbformat": 4,
 "nbformat_minor": 4
}
